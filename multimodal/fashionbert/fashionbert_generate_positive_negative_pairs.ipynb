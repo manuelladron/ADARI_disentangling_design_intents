{
 "cells": [
  {
   "cell_type": "code",
   "execution_count": null,
   "metadata": {},
   "outputs": [],
   "source": [
    "import random\n",
    "import json\n",
    "\n",
    "\n",
    "# path to dict of img_name -> description mapping\n",
    "SENTS_PATH = \"\"\n",
    "POSITIVE_NEGATIVE_PAIRS_PATH = \"\""
   ]
  },
  {
   "cell_type": "code",
   "execution_count": null,
   "metadata": {},
   "outputs": [],
   "source": [
    "def open_json(path):\n",
    "    f = open(path) \n",
    "    data = json.load(f) \n",
    "    f.close()\n",
    "    return data \n",
    "\n",
    "def save_json(file_path, data):\n",
    "    out_file = open(file_path, \"w\")\n",
    "    json.dump(data, out_file)\n",
    "    out_file.close()"
   ]
  },
  {
   "cell_type": "code",
   "execution_count": null,
   "metadata": {},
   "outputs": [],
   "source": [
    "id2sent = open_json(SENTS_PATH)\n",
    "sents = list(id2sent.values())\n",
    "\n",
    "positive_negative_pairs = []\n",
    "\n",
    "for k,v in enumerate(id2sent.items()):\n",
    "    positive_negative_pairs.append({\n",
    "        \"id\": k,\n",
    "        \"text\": v,\n",
    "        \"label\": True\n",
    "    })\n",
    "    positive_negative_pairs.append({\n",
    "        \"id\": k,\n",
    "        \"text\": random.choice(sents),\n",
    "        \"label\": False\n",
    "    })\n",
    "    \n",
    "save_json(POSITIVE_NEGATIVE_PAIRS_PATH, positive_negative_pairs)"
   ]
  }
 ],
 "metadata": {
  "kernelspec": {
   "display_name": "Python 3",
   "language": "python",
   "name": "python3"
  },
  "language_info": {
   "codemirror_mode": {
    "name": "ipython",
    "version": 3
   },
   "file_extension": ".py",
   "mimetype": "text/x-python",
   "name": "python",
   "nbconvert_exporter": "python",
   "pygments_lexer": "ipython3",
   "version": "3.7.9"
  }
 },
 "nbformat": 4,
 "nbformat_minor": 4
}
