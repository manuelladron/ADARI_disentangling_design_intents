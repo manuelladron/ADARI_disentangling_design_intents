{
 "cells": [
  {
   "cell_type": "code",
   "execution_count": 1,
   "metadata": {},
   "outputs": [],
   "source": [
    "import torch, torchvision\n",
    "import json\n",
    "import torch.nn.functional as F\n",
    "import PIL\n",
    "from PIL import Image\n",
    "from torch.utils.data import Dataset, DataLoader\n",
    "from utils import MultiModalBertDataset\n",
    "import pandas as pd\n",
    "\n",
    "device = torch.device(\"cuda:0\" if torch.cuda.is_available() else \"cpu\")\n",
    "\n",
    "\n",
    "# directory containing all raw images\n",
    "IMG_PATH = \"/home/alex/CMU/777/ADARI/v2/full\"\n",
    "SENTS_PATH = \"/home/alex/CMU/777/ADARI/ADARI_furniture_sents.json\"\n",
    "PAIRS_PATH = \"\"\n",
    "\n",
    "def open_json(path):\n",
    "    f = open(path) \n",
    "    data = json.load(f) \n",
    "    f.close()\n",
    "    return data \n",
    "\n",
    "def save_json(file_path, data):\n",
    "    out_file = open(file_path, \"w\")\n",
    "    json.dump(data, out_file)\n",
    "    out_file.close()"
   ]
  },
  {
   "cell_type": "code",
   "execution_count": null,
   "metadata": {},
   "outputs": [],
   "source": [
    "dataset = MultiModalBertDataset(IMG_PATH, PAIRS_PATH, device=device)\n",
    "\n",
    "dataloader = DataLoader(dataset, batch_size=64, shuffle=False, drop_last=False, num_workers=8)\n",
    "\n",
    "df = pd.DataFame(columns=[\"patches\", \"input_ids\", \"is_paired\"])\n",
    "for patches, input_ids, is_paired in dataloader:\n",
    "    for i in range(patches.shape[0]):\n",
    "        df = df.append(\n",
    "            {\n",
    "                \"patches\": patches[i].cpu().numpy(),\n",
    "                \"input_ids\": input_ids[i].cpu().numpy(),\n",
    "                \"is_paired\": is_paired[i].cpu().numpy()\n",
    "            },\n",
    "            ignore_index=True\n",
    "        )\n"
   ]
  },
  {
   "cell_type": "code",
   "execution_count": null,
   "metadata": {},
   "outputs": [],
   "source": [
    "df.to_pickle(\"./preprocessed_patches.pkl\")"
   ]
  }
 ],
 "metadata": {
  "kernelspec": {
   "display_name": "Python 3",
   "language": "python",
   "name": "python3"
  },
  "language_info": {
   "codemirror_mode": {
    "name": "ipython",
    "version": 3
   },
   "file_extension": ".py",
   "mimetype": "text/x-python",
   "name": "python",
   "nbconvert_exporter": "python",
   "pygments_lexer": "ipython3",
   "version": "3.7.6"
  }
 },
 "nbformat": 4,
 "nbformat_minor": 4
}
