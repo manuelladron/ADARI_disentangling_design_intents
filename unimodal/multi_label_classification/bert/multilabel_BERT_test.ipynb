{
 "cells": [
  {
   "cell_type": "code",
   "execution_count": 2,
   "metadata": {},
   "outputs": [],
   "source": [
    "import numpy as np\n",
    "import pandas as pd\n",
    "import torch\n",
    "import torch.nn as nn\n",
    "import transformers\n",
    "from transformers import BertTokenizer, BertForSequenceClassification\n",
    "import json\n",
    "import datetime\n",
    "from sklearn.metrics import f1_score"
   ]
  },
  {
   "cell_type": "code",
   "execution_count": 7,
   "metadata": {},
   "outputs": [
    {
     "data": {
      "text/plain": [
       "device(type='cpu')"
      ]
     },
     "execution_count": 7,
     "metadata": {},
     "output_type": "execute_result"
    }
   ],
   "source": [
    "IMG_LABEL_PATH = \"../../../ADARI/json_files/cleaned/ADARI_v2/furniture/ADARI_furniture_tfidf_top3adjs.json\"\n",
    "IMG_TO_SENTENCE_PATH = \"../../../ADARI/json_files/cleaned/ADARI_v2/furniture/ADARI_furniture_sents.json\"\n",
    "WORD_TO_INDEX_PATH = \"../../../ADARI/json_files/cleaned/ADARI_v2/furniture/ADARI_furniture_onehots_w2i_3labels.json\"\n",
    "BERT_TEST_MODEL_PATH = \"/Users/manuelladron/iCloud_archive/Documents/_CMU/PHD-CD/PHD-CD_Research/multilabel_classifier/v2_nov2020/gpu/BERT/BERT_Classification_Trained\"\n",
    "\n",
    "torch.manual_seed(42)\n",
    "device = torch.device(\"cuda:0\" if (torch.cuda.is_available()) else \"cpu\")\n",
    "device"
   ]
  },
  {
   "cell_type": "code",
   "execution_count": 14,
   "metadata": {},
   "outputs": [
    {
     "name": "stdout",
     "output_type": "stream",
     "text": [
      "Loading tokenizer...\n",
      "Loading data...\n",
      "Loading Bert Model to test...\n"
     ]
    },
    {
     "ename": "TypeError",
     "evalue": "__init__() got an unexpected keyword argument 'return_dict'",
     "output_type": "error",
     "traceback": [
      "\u001b[0;31m---------------------------------------------------------------------------\u001b[0m",
      "\u001b[0;31mTypeError\u001b[0m                                 Traceback (most recent call last)",
      "\u001b[0;32m<ipython-input-14-803c9b5cae0a>\u001b[0m in \u001b[0;36m<module>\u001b[0;34m\u001b[0m\n\u001b[1;32m     58\u001b[0m \u001b[0;34m\u001b[0m\u001b[0m\n\u001b[1;32m     59\u001b[0m \u001b[0mprint\u001b[0m\u001b[0;34m(\u001b[0m\u001b[0;34m\"Loading Bert Model to test...\"\u001b[0m\u001b[0;34m)\u001b[0m\u001b[0;34m\u001b[0m\u001b[0;34m\u001b[0m\u001b[0m\n\u001b[0;32m---> 60\u001b[0;31m \u001b[0mpretrained_bert\u001b[0m \u001b[0;34m=\u001b[0m \u001b[0mBertForSequenceClassification\u001b[0m\u001b[0;34m.\u001b[0m\u001b[0mfrom_pretrained\u001b[0m\u001b[0;34m(\u001b[0m\u001b[0;34m'bert-base-uncased'\u001b[0m\u001b[0;34m,\u001b[0m\u001b[0mreturn_dict\u001b[0m\u001b[0;34m=\u001b[0m\u001b[0;32mTrue\u001b[0m\u001b[0;34m)\u001b[0m\u001b[0;34m\u001b[0m\u001b[0;34m\u001b[0m\u001b[0m\n\u001b[0m\u001b[1;32m     61\u001b[0m \u001b[0mtest_bert\u001b[0m \u001b[0;34m=\u001b[0m \u001b[0mBertForSequenceClassification\u001b[0m\u001b[0;34m.\u001b[0m\u001b[0mfrom_pretrained\u001b[0m\u001b[0;34m(\u001b[0m\u001b[0mBERT_TEST_MODEL_PATH\u001b[0m\u001b[0;34m,\u001b[0m \u001b[0mreturn_dict\u001b[0m\u001b[0;34m=\u001b[0m\u001b[0;32mTrue\u001b[0m\u001b[0;34m)\u001b[0m\u001b[0;34m\u001b[0m\u001b[0;34m\u001b[0m\u001b[0m\n",
      "\u001b[0;32m~/opt/anaconda3/envs/deeplearning/lib/python3.7/site-packages/transformers/modeling_utils.py\u001b[0m in \u001b[0;36mfrom_pretrained\u001b[0;34m(cls, pretrained_model_name_or_path, *model_args, **kwargs)\u001b[0m\n\u001b[1;32m    409\u001b[0m \u001b[0;34m\u001b[0m\u001b[0m\n\u001b[1;32m    410\u001b[0m         \u001b[0;31m# Instantiate model.\u001b[0m\u001b[0;34m\u001b[0m\u001b[0;34m\u001b[0m\u001b[0;34m\u001b[0m\u001b[0m\n\u001b[0;32m--> 411\u001b[0;31m         \u001b[0mmodel\u001b[0m \u001b[0;34m=\u001b[0m \u001b[0mcls\u001b[0m\u001b[0;34m(\u001b[0m\u001b[0mconfig\u001b[0m\u001b[0;34m,\u001b[0m \u001b[0;34m*\u001b[0m\u001b[0mmodel_args\u001b[0m\u001b[0;34m,\u001b[0m \u001b[0;34m**\u001b[0m\u001b[0mmodel_kwargs\u001b[0m\u001b[0;34m)\u001b[0m\u001b[0;34m\u001b[0m\u001b[0;34m\u001b[0m\u001b[0m\n\u001b[0m\u001b[1;32m    412\u001b[0m \u001b[0;34m\u001b[0m\u001b[0m\n\u001b[1;32m    413\u001b[0m         \u001b[0;32mif\u001b[0m \u001b[0mstate_dict\u001b[0m \u001b[0;32mis\u001b[0m \u001b[0;32mNone\u001b[0m \u001b[0;32mand\u001b[0m \u001b[0;32mnot\u001b[0m \u001b[0mfrom_tf\u001b[0m\u001b[0;34m:\u001b[0m\u001b[0;34m\u001b[0m\u001b[0;34m\u001b[0m\u001b[0m\n",
      "\u001b[0;31mTypeError\u001b[0m: __init__() got an unexpected keyword argument 'return_dict'"
     ]
    }
   ],
   "source": [
    "def open_json(path):\n",
    "    f = open(path) \n",
    "    data = json.load(f) \n",
    "    f.close()\n",
    "    return data \n",
    "\n",
    "\n",
    "class ADARIMultiHotSentsDataset(torch.utils.data.Dataset):\n",
    "    def __init__(self, \n",
    "                img_to_sentences_path, \n",
    "                img_to_label_path, \n",
    "                word_to_index_path,\n",
    "                tokenizer):\n",
    "        super(ADARIMultiHotSentsDataset).__init__()\n",
    "        \n",
    "        self.img_to_sentences_path = img_to_sentences_path\n",
    "        self.img_to_label_path = img_to_label_path\n",
    "        self.word_to_index_path = word_to_index_path\n",
    "\n",
    "        self.img_to_sent = open_json(self.img_to_sentences_path)\n",
    "        self.img_to_labels = open_json(self.img_to_label_path)\n",
    "        self.word_to_index = open_json(self.word_to_index_path)\n",
    "\n",
    "        self.im_names = list(self.img_to_labels.keys())\n",
    "        max_word = max(list(self.word_to_index.values()))\n",
    "        self.num_classes = max_word        \n",
    "\n",
    "        \n",
    "    def __len__(self):\n",
    "        return len(self.img_to_labels.keys())\n",
    "        \n",
    "    def __getitem__(self, idx):\n",
    "        imname = self.im_names[idx]\n",
    "\n",
    "        # one hot encode the labels\n",
    "        l = torch.zeros((self.num_classes))\n",
    "        for w in self.img_to_labels[imname]:\n",
    "            l[self.word_to_index[w] - 1] = 1.0\n",
    "\n",
    "        tokens = tokenizer(\n",
    "            \"\".join([s + ' ' for s in self.img_to_sent[imname][0]]),\n",
    "            padding = 'max_length',\n",
    "            max_length = 50,\n",
    "            truncation = True,\n",
    "            return_tensors = 'pt',\n",
    "            return_attention_mask = True)\n",
    "\n",
    "        return l, tokens.input_ids, tokens.attention_mask\n",
    "\n",
    "    \n",
    "\n",
    "print(\"Loading tokenizer...\")\n",
    "tokenizer = BertTokenizer.from_pretrained('bert-base-uncased')\n",
    "\n",
    "print(\"Loading data...\")\n",
    "dataset = ADARIMultiHotSentsDataset(IMG_TO_SENTENCE_PATH, IMG_LABEL_PATH, WORD_TO_INDEX_PATH, tokenizer)\n",
    "train_set, test_set = torch.utils.data.random_split(dataset, [int(.8 * len(dataset)), len(dataset) - int(.8 * len(dataset))])\n",
    "\n",
    "print(\"Loading Bert Model to test...\")\n",
    "pretrained_bert = BertForSequenceClassification.from_pretrained('bert-base-uncased',return_dict=True)\n",
    "test_bert = BertForSequenceClassification.from_pretrained(BERT_TEST_MODEL_PATH, return_dict=True)\n"
   ]
  },
  {
   "cell_type": "code",
   "execution_count": null,
   "metadata": {},
   "outputs": [],
   "source": []
  }
 ],
 "metadata": {
  "kernelspec": {
   "display_name": "Python 3",
   "language": "python",
   "name": "python3"
  },
  "language_info": {
   "codemirror_mode": {
    "name": "ipython",
    "version": 3
   },
   "file_extension": ".py",
   "mimetype": "text/x-python",
   "name": "python",
   "nbconvert_exporter": "python",
   "pygments_lexer": "ipython3",
   "version": "3.7.6"
  }
 },
 "nbformat": 4,
 "nbformat_minor": 4
}
