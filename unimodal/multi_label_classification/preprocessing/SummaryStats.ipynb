{
 "cells": [
  {
   "cell_type": "code",
   "execution_count": 25,
   "metadata": {},
   "outputs": [],
   "source": [
    "from __future__ import print_function\n",
    "from __future__ import division\n",
    "\n",
    "import sys\n",
    "import torch\n",
    "import torch.utils.data as data\n",
    "import os\n",
    "import time\n",
    "import pickle\n",
    "import numpy as np\n",
    "from PIL import Image\n",
    "import re\n",
    "import io\n",
    "\n",
    "import json\n",
    "import matplotlib.pyplot as plt\n",
    "from torchvision import transforms, datasets, models\n",
    "from torch.utils.data import Dataset, DataLoader\n",
    "from torch.nn.utils.rnn import pad_sequence\n",
    "from torch.nn.utils.rnn import pack_padded_sequence, pad_packed_sequence\n",
    "import torch.nn.functional as F\n",
    "\n",
    "\n",
    "from IPython.display import clear_output\n",
    "import torch.nn as nn\n",
    "import torch.optim as optim\n",
    "\n",
    "import itertools\n",
    "import collections\n",
    "import pdb\n",
    "cuda = torch.cuda.is_available()\n",
    "device = torch.device(\"cuda\" if cuda else \"cpu\")\n",
    "cuda\n",
    "\n",
    "CLASS_LABEL_PATH = \"../../../ADARI/furniture/ADARI_furniture_onehots.json\"\n",
    "WORD_TO_INDEX_PATH = \"../../../ADARI/furniture/ADARI_furniture_onehots_w2i.json\"\n",
    "INDEX_TO_WORDS_PATH = \"../../../ADARI/furniture/ADARI_furniture_onehots_i2w.json\"\n",
    "IMAGE_FOLDER = \"../../../ADARI/v2/full\"\n"
   ]
  },
  {
   "cell_type": "code",
   "execution_count": 26,
   "metadata": {},
   "outputs": [],
   "source": [
    "# Path for file dset_dataloader.json\n",
    "def open_json(path):\n",
    "    f = open(path) \n",
    "    data = json.load(f) \n",
    "    f.close()\n",
    "    return data \n",
    "\n",
    "def flatten(S):\n",
    "    if S == []:\n",
    "        return S\n",
    "    if isinstance(S[0], list):\n",
    "        return flatten(S[0]) + flatten(S[1:])\n",
    "    return S[:1] + flatten(S[1:])\n",
    "def open_json(path):\n",
    "    f = open(path) \n",
    "    data = json.load(f) \n",
    "    f.close()\n",
    "    return data \n",
    "\n",
    "class ADARIMultiHotDataset(torch.utils.data.Dataset):\n",
    "    def __init__(self, image_folder, class_label_file, image_size):\n",
    "        super(ADARIMultiHotDataset).__init__()\n",
    "        \n",
    "        self.image_size = image_size\n",
    "        self.image_folder = image_folder\n",
    "        self.class_label_file = class_label_file\n",
    "        self.transform = transforms.Compose([\n",
    "                               transforms.Resize(image_size),\n",
    "                               transforms.CenterCrop(image_size),\n",
    "                               transforms.ToTensor(),\n",
    "                               transforms.Normalize((0.5, 0.5, 0.5), (0.5, 0.5, 0.5)),\n",
    "                           ])\n",
    "        self.im_to_one_hots = open_json(self.class_label_file)\n",
    "        self.im_names = list(self.im_to_one_hots.keys())\n",
    "        self.num_classes = len(self.im_to_one_hots[self.im_names[0]])\n",
    "        \n",
    "    def __len__(self):\n",
    "        return len(self.im_names)\n",
    "        \n",
    "    def __getitem__(self, idx):\n",
    "        imname = self.im_names[idx]\n",
    "        \n",
    "        img = Image.open(self.image_folder + '/' + imname)\n",
    "        return self.transform(img), torch.tensor(self.im_to_one_hots[imname])\n",
    "        \n",
    "index_to_words = open_json(INDEX_TO_WORDS_PATH)  "
   ]
  },
  {
   "cell_type": "code",
   "execution_count": 9,
   "metadata": {},
   "outputs": [],
   "source": [
    "# Load Data\n",
    "\n",
    "data = ADARIMultiHotDataset(IMAGE_FOLDER, CLASS_LABEL_PATH, 64)\n",
    "vocab_size = data.num_classes\n"
   ]
  },
  {
   "cell_type": "code",
   "execution_count": 10,
   "metadata": {},
   "outputs": [],
   "source": [
    "summed_onehots = np.zeros(len(data.im_to_one_hots[data.im_names[0]]))\n",
    "\n",
    "for k, v in data.im_to_one_hots.items():\n",
    "    summed_onehots += np.array(v)\n"
   ]
  },
  {
   "cell_type": "code",
   "execution_count": 19,
   "metadata": {},
   "outputs": [
    {
     "data": {
      "image/png": "[encoded data removed]",
      "text/plain": [
       "<Figure size 432x288 with 1 Axes>"
      ]
     },
     "metadata": {
      "needs_background": "light"
     },
     "output_type": "display_data"
    }
   ],
   "source": [
    "# Plot distribution of labels\n",
    "\n",
    "plt.bar(np.arange(0, summed_onehots.shape[0]), summed_onehots)\n",
    "plt.ylim(top = 1000)\n",
    "plt.xlabel(\"Label Index\")\n",
    "plt.ylabel(\"Label Frequency\")\n",
    "plt.title(\"Label Frequencies\")\n",
    "plt.show()"
   ]
  },
  {
   "cell_type": "code",
   "execution_count": 28,
   "metadata": {},
   "outputs": [],
   "source": [
    "# Top 10 most common words\n",
    "\n",
    "sorted_labels = sorted(enumerate(list((summed_onehots))), key=lambda x: -1 * x[1])\n",
    "top_ten = sorted_labels[:10]\n"
   ]
  },
  {
   "cell_type": "code",
   "execution_count": 30,
   "metadata": {},
   "outputs": [
    {
     "name": "stdout",
     "output_type": "stream",
     "text": [
      "different\n",
      "wooden\n",
      "small\n",
      "simple\n",
      "large\n",
      "natural\n",
      "traditional\n",
      "black\n",
      "white\n",
      "solid\n"
     ]
    }
   ],
   "source": [
    "for i, w in top_ten:\n",
    "    print(index_to_words[str(i)])"
   ]
  },
  {
   "cell_type": "code",
   "execution_count": null,
   "metadata": {},
   "outputs": [],
   "source": []
  }
 ],
 "metadata": {
  "kernelspec": {
   "display_name": "Python 3",
   "language": "python",
   "name": "python3"
  },
  "language_info": {
   "codemirror_mode": {
    "name": "ipython",
    "version": 3
   },
   "file_extension": ".py",
   "mimetype": "text/x-python",
   "name": "python",
   "nbconvert_exporter": "python",
   "pygments_lexer": "ipython3",
   "version": "3.8.6"
  }
 },
 "nbformat": 4,
 "nbformat_minor": 4
}
